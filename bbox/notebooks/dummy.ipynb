{
 "metadata": {
  "language_info": {
   "codemirror_mode": {
    "name": "ipython",
    "version": 3
   },
   "file_extension": ".py",
   "mimetype": "text/x-python",
   "name": "python",
   "nbconvert_exporter": "python",
   "pygments_lexer": "ipython3",
   "version": "3.6.9"
  },
  "orig_nbformat": 4,
  "kernelspec": {
   "name": "python3",
   "display_name": "Python 3.6.9 64-bit"
  },
  "interpreter": {
   "hash": "30295c5bec572e859485b1ffa5e89b8b3e2022ef6e3e739c1ac40f143a557caf"
  }
 },
 "nbformat": 4,
 "nbformat_minor": 2,
 "cells": [
  {
   "cell_type": "code",
   "execution_count": 1,
   "metadata": {},
   "outputs": [
    {
     "output_type": "stream",
     "name": "stdout",
     "text": [
      "/mnt/d/Dataset/Github/SCD/bbox\n"
     ]
    }
   ],
   "source": [
    "cd /mnt/d/Dataset/Github/SCD/bbox"
   ]
  },
  {
   "cell_type": "code",
   "execution_count": 2,
   "metadata": {},
   "outputs": [
    {
     "output_type": "stream",
     "name": "stdout",
     "text": [
      "\u001b[0m\u001b[01;32m__init__.py\u001b[0m*     \u001b[34;42mcsv\u001b[0m/        \u001b[34;42mnotebooks\u001b[0m/         \u001b[01;32mutils.py\u001b[0m*\n\u001b[34;42m__pycache__\u001b[0m/     \u001b[01;32mmap.py\u001b[0m*     \u001b[01;32mrequirements.txt\u001b[0m*  \u001b[01;32mzft2sub.py\u001b[0m*\n\u001b[01;32mbbox_filter.py\u001b[0m*  \u001b[34;42mmap_boxes\u001b[0m/  \u001b[01;32msub2zft.py\u001b[0m*\n"
     ]
    }
   ],
   "source": [
    "ls"
   ]
  },
  {
   "cell_type": "code",
   "execution_count": 38,
   "metadata": {},
   "outputs": [
    {
     "output_type": "execute_result",
     "data": {
      "text/plain": [
       "                   id                                   PredictionString\n",
       "0  000a312787f2_image  opacity 0.043109842436567326 773 811 1530 1955...\n",
       "1  000c3a3f293f_image  opacity 0.04042375847365275 664 961 1327 1604 ..."
      ],
      "text/html": "<div>\n<style scoped>\n    .dataframe tbody tr th:only-of-type {\n        vertical-align: middle;\n    }\n\n    .dataframe tbody tr th {\n        vertical-align: top;\n    }\n\n    .dataframe thead th {\n        text-align: right;\n    }\n</style>\n<table border=\"1\" class=\"dataframe\">\n  <thead>\n    <tr style=\"text-align: right;\">\n      <th></th>\n      <th>id</th>\n      <th>PredictionString</th>\n    </tr>\n  </thead>\n  <tbody>\n    <tr>\n      <th>0</th>\n      <td>000a312787f2_image</td>\n      <td>opacity 0.043109842436567326 773 811 1530 1955...</td>\n    </tr>\n    <tr>\n      <th>1</th>\n      <td>000c3a3f293f_image</td>\n      <td>opacity 0.04042375847365275 664 961 1327 1604 ...</td>\n    </tr>\n  </tbody>\n</table>\n</div>"
     },
     "metadata": {},
     "execution_count": 38
    }
   ],
   "source": [
    "import pandas as pd, numpy as np\n",
    "from tqdm import tqdm\n",
    "df = pd.read_csv('csv/submission.csv')\n",
    "df.head(2)"
   ]
  },
  {
   "cell_type": "code",
   "execution_count": 5,
   "metadata": {},
   "outputs": [
    {
     "output_type": "execute_result",
     "data": {
      "text/plain": [
       "array([['opacity', '0.043109842436567326', '773', '811', '1530', '1955'],\n",
       "       ['opacity', '0.058176304744846294', '2361', '865', '3234', '1914'],\n",
       "       ['opacity', '0.060274218741843494', '2860', '1104', '3450',\n",
       "        '2269'],\n",
       "       ['opacity', '0.09388556251809288', '590', '1342', '1263', '2473'],\n",
       "       ['opacity', '0.0982183352252453', '2801', '1022', '3292', '1778'],\n",
       "       ['opacity', '0.19193822209510328', '2535', '1008', '3350', '2207'],\n",
       "       ['opacity', '0.1926010223888938', '632', '899', '1604', '2466'],\n",
       "       ['none', '0.041312426328659', '0', '0', '1', '1']], dtype='<U20')"
      ]
     },
     "metadata": {},
     "execution_count": 5
    }
   ],
   "source": [
    "# bboxes = np.array(df.PredictionString.iloc[0].strip().split(' ')).reshape(-1, 6)\n",
    "# bboxes"
   ]
  },
  {
   "cell_type": "code",
   "execution_count": 6,
   "metadata": {},
   "outputs": [
    {
     "output_type": "stream",
     "name": "stderr",
     "text": [
      "100%|██████████| 12123/12123 [00:05<00:00, 2297.51it/s]\n"
     ]
    }
   ],
   "source": [
    "# data = []\n",
    "# for idx in tqdm(range(df.shape[0])):\n",
    "#     row = df.iloc[idx]\n",
    "#     image_id = row[\"id\"]\n",
    "#     strings = np.array(row[\"PredictionString\"].strip().split(' ')).reshape(-1, 6)\n",
    "#     for string in strings:\n",
    "#         data.append([image_id]+string.tolist())\n",
    "\n",
    "\n",
    "    \n"
   ]
  },
  {
   "cell_type": "code",
   "execution_count": 39,
   "metadata": {},
   "outputs": [],
   "source": [
    "sub_df = pd.DataFrame(data, columns=[\"ImageID\",\"LabelName\",\"Conf\",\"XMin\",\"XMax\",\"YMin\",\"YMax\"])"
   ]
  },
  {
   "cell_type": "code",
   "execution_count": 40,
   "metadata": {},
   "outputs": [
    {
     "output_type": "stream",
     "name": "stdout",
     "text": [
      "progress : 100%|████████████████████████| 12123/12123 [00:06<00:00, 1971.27it/s]\n",
      "\n",
      "              ImageID LabelName      Conf    XMin    XMax    YMin    YMax\n",
      "0  000a312787f2_image   opacity  0.043110   773.0  1530.0   811.0  1955.0\n",
      "1  000a312787f2_image   opacity  0.058176  2361.0  3234.0   865.0  1914.0\n",
      "2  000a312787f2_image   opacity  0.060274  2860.0  3450.0  1104.0  2269.0\n",
      "3  000a312787f2_image   opacity  0.093886   590.0  1263.0  1342.0  2473.0\n",
      "4  000a312787f2_image   opacity  0.098218  2801.0  3292.0  1022.0  1778.0\n"
     ]
    }
   ],
   "source": [
    "# !python3 sub2zft.py"
   ]
  },
  {
   "cell_type": "code",
   "execution_count": 11,
   "metadata": {},
   "outputs": [],
   "source": [
    "sub_df = sub_df.astype(str)"
   ]
  },
  {
   "cell_type": "code",
   "execution_count": 45,
   "metadata": {},
   "outputs": [
    {
     "output_type": "stream",
     "name": "stderr",
     "text": [
      "progress : 100%|██████████| 12123/12123 [00:07<00:00, 1576.05it/s]\n"
     ]
    }
   ],
   "source": [
    "from sub2zft import sub2zft\n",
    "sub_df = sub2zft(df)\n",
    "sub_df[[\"XMin\",\"XMax\",\"YMin\",\"YMax\"]] = sub_df[[\"XMin\",\"XMax\",\"YMin\",\"YMax\"]].astype(int)\n",
    "sub_df = sub_df.astype(str)\n"
   ]
  },
  {
   "cell_type": "code",
   "execution_count": 15,
   "metadata": {},
   "outputs": [],
   "source": []
  },
  {
   "cell_type": "code",
   "execution_count": 46,
   "metadata": {},
   "outputs": [
    {
     "output_type": "stream",
     "name": "stderr",
     "text": [
      "100%|██████████| 100/100 [00:00<00:00, 354.11it/s]\n"
     ]
    },
    {
     "output_type": "execute_result",
     "data": {
      "text/plain": [
       "              ImageID LabelName                  Conf  XMin  XMax YMin  YMax  \\\n",
       "0  000a312787f2_image   opacity  0.043109842436567326   773  1530  811  1955   \n",
       "1  000a312787f2_image   opacity  0.058176304744846294  2361  3234  865  1914   \n",
       "\n",
       "                            PredictionString  \n",
       "0   1 0.043109842436567326 773 811 1530 1955  \n",
       "1  1 0.058176304744846294 2361 865 3234 1914  "
      ],
      "text/html": "<div>\n<style scoped>\n    .dataframe tbody tr th:only-of-type {\n        vertical-align: middle;\n    }\n\n    .dataframe tbody tr th {\n        vertical-align: top;\n    }\n\n    .dataframe thead th {\n        text-align: right;\n    }\n</style>\n<table border=\"1\" class=\"dataframe\">\n  <thead>\n    <tr style=\"text-align: right;\">\n      <th></th>\n      <th>ImageID</th>\n      <th>LabelName</th>\n      <th>Conf</th>\n      <th>XMin</th>\n      <th>XMax</th>\n      <th>YMin</th>\n      <th>YMax</th>\n      <th>PredictionString</th>\n    </tr>\n  </thead>\n  <tbody>\n    <tr>\n      <th>0</th>\n      <td>000a312787f2_image</td>\n      <td>opacity</td>\n      <td>0.043109842436567326</td>\n      <td>773</td>\n      <td>1530</td>\n      <td>811</td>\n      <td>1955</td>\n      <td>1 0.043109842436567326 773 811 1530 1955</td>\n    </tr>\n    <tr>\n      <th>1</th>\n      <td>000a312787f2_image</td>\n      <td>opacity</td>\n      <td>0.058176304744846294</td>\n      <td>2361</td>\n      <td>3234</td>\n      <td>865</td>\n      <td>1914</td>\n      <td>1 0.058176304744846294 2361 865 3234 1914</td>\n    </tr>\n  </tbody>\n</table>\n</div>"
     },
     "metadata": {},
     "execution_count": 46
    }
   ],
   "source": [
    "def get_predstring(row):\n",
    "    string = [\"1\" if row['LabelName']=='opacity' else \"0\", row['Conf'], row['XMin'], row['YMin'], row['XMax'], row['YMax']]\n",
    "    row['PredictionString'] = ' '.join(string)\n",
    "    return row\n",
    "sub_df = sub_df.iloc[:100].progress_apply(get_predstring, axis=1)\n",
    "sub_df.head(2)"
   ]
  },
  {
   "cell_type": "code",
   "execution_count": 49,
   "metadata": {},
   "outputs": [
    {
     "output_type": "stream",
     "name": "stderr",
     "text": [
      "100%|██████████| 11/11 [00:00<00:00, 8274.27it/s]\n"
     ]
    },
    {
     "output_type": "execute_result",
     "data": {
      "text/plain": [
       "                    id                                   PredictionString\n",
       "0   000a312787f2_image  1 0.043109842436567326 773 811 1530 1955\\n1 0....\n",
       "1   000c3a3f293f_image  1 0.04042375847365275 664 961 1327 1604\\n1 0.0...\n",
       "2   0012ff7358bc_image  1 0.04592679627800743 2161 740 2465 1257\\n1 0....\n",
       "3   001398f4ff4f_image  1 0.03655236675280048 769 2035 1363 2661\\n1 0....\n",
       "4   001bd15d1891_image  1 0.05183601409349559 2629 853 3095 1559\\n1 0....\n",
       "5   0022227f5adf_image  1 0.041965300496344046 643 1369 1293 1974\\n1 0...\n",
       "6   0023f02ae886_image  1 0.036717522198602665 2257 874 2501 1220\\n1 0...\n",
       "7   002e9b2128d0_image  1 0.04511445523324106 224 1227 903 2053\\n1 0.0...\n",
       "8   00326161e51e_image  1 0.043801246284134086 543 401 1036 922\\n1 0.0...\n",
       "9   0044e449aae1_image  1 0.03748016998782539 587 287 1274 1405\\n1 0.0...\n",
       "10  0049814626c8_image  1 0.041657879777014864 481 1489 1120 2508\\n1 0..."
      ],
      "text/html": "<div>\n<style scoped>\n    .dataframe tbody tr th:only-of-type {\n        vertical-align: middle;\n    }\n\n    .dataframe tbody tr th {\n        vertical-align: top;\n    }\n\n    .dataframe thead th {\n        text-align: right;\n    }\n</style>\n<table border=\"1\" class=\"dataframe\">\n  <thead>\n    <tr style=\"text-align: right;\">\n      <th></th>\n      <th>id</th>\n      <th>PredictionString</th>\n    </tr>\n  </thead>\n  <tbody>\n    <tr>\n      <th>0</th>\n      <td>000a312787f2_image</td>\n      <td>1 0.043109842436567326 773 811 1530 1955\\n1 0....</td>\n    </tr>\n    <tr>\n      <th>1</th>\n      <td>000c3a3f293f_image</td>\n      <td>1 0.04042375847365275 664 961 1327 1604\\n1 0.0...</td>\n    </tr>\n    <tr>\n      <th>2</th>\n      <td>0012ff7358bc_image</td>\n      <td>1 0.04592679627800743 2161 740 2465 1257\\n1 0....</td>\n    </tr>\n    <tr>\n      <th>3</th>\n      <td>001398f4ff4f_image</td>\n      <td>1 0.03655236675280048 769 2035 1363 2661\\n1 0....</td>\n    </tr>\n    <tr>\n      <th>4</th>\n      <td>001bd15d1891_image</td>\n      <td>1 0.05183601409349559 2629 853 3095 1559\\n1 0....</td>\n    </tr>\n    <tr>\n      <th>5</th>\n      <td>0022227f5adf_image</td>\n      <td>1 0.041965300496344046 643 1369 1293 1974\\n1 0...</td>\n    </tr>\n    <tr>\n      <th>6</th>\n      <td>0023f02ae886_image</td>\n      <td>1 0.036717522198602665 2257 874 2501 1220\\n1 0...</td>\n    </tr>\n    <tr>\n      <th>7</th>\n      <td>002e9b2128d0_image</td>\n      <td>1 0.04511445523324106 224 1227 903 2053\\n1 0.0...</td>\n    </tr>\n    <tr>\n      <th>8</th>\n      <td>00326161e51e_image</td>\n      <td>1 0.043801246284134086 543 401 1036 922\\n1 0.0...</td>\n    </tr>\n    <tr>\n      <th>9</th>\n      <td>0044e449aae1_image</td>\n      <td>1 0.03748016998782539 587 287 1274 1405\\n1 0.0...</td>\n    </tr>\n    <tr>\n      <th>10</th>\n      <td>0049814626c8_image</td>\n      <td>1 0.041657879777014864 481 1489 1120 2508\\n1 0...</td>\n    </tr>\n  </tbody>\n</table>\n</div>"
     },
     "metadata": {},
     "execution_count": 49
    }
   ],
   "source": [
    "pd.DataFrame(sub_df.groupby('ImageID')[\"PredictionString\"].apply(list).progress_apply(lambda x: '\\n'.join(x)).reset_index(drop=False)).rename({\"ImageID\":\"id\"}, axis=1)"
   ]
  },
  {
   "cell_type": "code",
   "execution_count": 17,
   "metadata": {},
   "outputs": [
    {
     "output_type": "stream",
     "name": "stdout",
     "text": [
      "Help on function sub2zft in module sub2zft:\n\nsub2zft(df)\n    converts submission.csv to zfturbo format.\n    Args:\n        df : DataFrame (submission.csv)\n    Returns:\n        zfturbo formtted csv\n\n"
     ]
    }
   ],
   "source": [
    "help(sub2zft)"
   ]
  },
  {
   "cell_type": "code",
   "execution_count": 15,
   "metadata": {},
   "outputs": [],
   "source": [
    "import sys\n",
    "del sys.modules['sub2zft']"
   ]
  },
  {
   "cell_type": "code",
   "execution_count": 37,
   "metadata": {},
   "outputs": [
    {
     "output_type": "execute_result",
     "data": {
      "text/plain": [
       "               ImageID LabelName                  Conf    XMin    XMax  \\\n",
       "0   000a312787f2_image   opacity  0.043109842436567326   773.0  1530.0   \n",
       "1   000a312787f2_image   opacity  0.058176304744846294  2361.0  3234.0   \n",
       "2   000a312787f2_image   opacity  0.060274218741843494  2860.0  3450.0   \n",
       "3   000a312787f2_image   opacity   0.09388556251809288   590.0  1263.0   \n",
       "4   000a312787f2_image   opacity    0.0982183352252453  2801.0  3292.0   \n",
       "..                 ...       ...                   ...     ...     ...   \n",
       "95  0049814626c8_image   opacity  0.041657879777014864   481.0  1120.0   \n",
       "96  0049814626c8_image   opacity  0.044654000216899685   714.0  1585.0   \n",
       "97  0049814626c8_image   opacity  0.046742170632937036  2796.0  3435.0   \n",
       "98  0049814626c8_image   opacity   0.04859817822678338   539.0  1103.0   \n",
       "99  0049814626c8_image   opacity   0.05176628202729419   622.0  1767.0   \n",
       "\n",
       "      YMin    YMax                                   PredictionString  \n",
       "0    811.0  1955.0   1 0.043109842436567326 773.0 811.0 1530.0 1955.0  \n",
       "1    865.0  1914.0  1 0.058176304744846294 2361.0 865.0 3234.0 1914.0  \n",
       "2   1104.0  2269.0  1 0.060274218741843494 2860.0 1104.0 3450.0 22...  \n",
       "3   1342.0  2473.0   1 0.09388556251809288 590.0 1342.0 1263.0 2473.0  \n",
       "4   1022.0  1778.0   1 0.0982183352252453 2801.0 1022.0 3292.0 1778.0  \n",
       "..     ...     ...                                                ...  \n",
       "95  1489.0  2508.0  1 0.041657879777014864 481.0 1489.0 1120.0 2508.0  \n",
       "96   714.0  1665.0   1 0.044654000216899685 714.0 714.0 1585.0 1665.0  \n",
       "97   829.0  1910.0  1 0.046742170632937036 2796.0 829.0 3435.0 1910.0  \n",
       "98  1135.0  2175.0   1 0.04859817822678338 539.0 1135.0 1103.0 2175.0  \n",
       "99   829.0  2528.0    1 0.05176628202729419 622.0 829.0 1767.0 2528.0  \n",
       "\n",
       "[100 rows x 8 columns]"
      ],
      "text/html": "<div>\n<style scoped>\n    .dataframe tbody tr th:only-of-type {\n        vertical-align: middle;\n    }\n\n    .dataframe tbody tr th {\n        vertical-align: top;\n    }\n\n    .dataframe thead th {\n        text-align: right;\n    }\n</style>\n<table border=\"1\" class=\"dataframe\">\n  <thead>\n    <tr style=\"text-align: right;\">\n      <th></th>\n      <th>ImageID</th>\n      <th>LabelName</th>\n      <th>Conf</th>\n      <th>XMin</th>\n      <th>XMax</th>\n      <th>YMin</th>\n      <th>YMax</th>\n      <th>PredictionString</th>\n    </tr>\n  </thead>\n  <tbody>\n    <tr>\n      <th>0</th>\n      <td>000a312787f2_image</td>\n      <td>opacity</td>\n      <td>0.043109842436567326</td>\n      <td>773.0</td>\n      <td>1530.0</td>\n      <td>811.0</td>\n      <td>1955.0</td>\n      <td>1 0.043109842436567326 773.0 811.0 1530.0 1955.0</td>\n    </tr>\n    <tr>\n      <th>1</th>\n      <td>000a312787f2_image</td>\n      <td>opacity</td>\n      <td>0.058176304744846294</td>\n      <td>2361.0</td>\n      <td>3234.0</td>\n      <td>865.0</td>\n      <td>1914.0</td>\n      <td>1 0.058176304744846294 2361.0 865.0 3234.0 1914.0</td>\n    </tr>\n    <tr>\n      <th>2</th>\n      <td>000a312787f2_image</td>\n      <td>opacity</td>\n      <td>0.060274218741843494</td>\n      <td>2860.0</td>\n      <td>3450.0</td>\n      <td>1104.0</td>\n      <td>2269.0</td>\n      <td>1 0.060274218741843494 2860.0 1104.0 3450.0 22...</td>\n    </tr>\n    <tr>\n      <th>3</th>\n      <td>000a312787f2_image</td>\n      <td>opacity</td>\n      <td>0.09388556251809288</td>\n      <td>590.0</td>\n      <td>1263.0</td>\n      <td>1342.0</td>\n      <td>2473.0</td>\n      <td>1 0.09388556251809288 590.0 1342.0 1263.0 2473.0</td>\n    </tr>\n    <tr>\n      <th>4</th>\n      <td>000a312787f2_image</td>\n      <td>opacity</td>\n      <td>0.0982183352252453</td>\n      <td>2801.0</td>\n      <td>3292.0</td>\n      <td>1022.0</td>\n      <td>1778.0</td>\n      <td>1 0.0982183352252453 2801.0 1022.0 3292.0 1778.0</td>\n    </tr>\n    <tr>\n      <th>...</th>\n      <td>...</td>\n      <td>...</td>\n      <td>...</td>\n      <td>...</td>\n      <td>...</td>\n      <td>...</td>\n      <td>...</td>\n      <td>...</td>\n    </tr>\n    <tr>\n      <th>95</th>\n      <td>0049814626c8_image</td>\n      <td>opacity</td>\n      <td>0.041657879777014864</td>\n      <td>481.0</td>\n      <td>1120.0</td>\n      <td>1489.0</td>\n      <td>2508.0</td>\n      <td>1 0.041657879777014864 481.0 1489.0 1120.0 2508.0</td>\n    </tr>\n    <tr>\n      <th>96</th>\n      <td>0049814626c8_image</td>\n      <td>opacity</td>\n      <td>0.044654000216899685</td>\n      <td>714.0</td>\n      <td>1585.0</td>\n      <td>714.0</td>\n      <td>1665.0</td>\n      <td>1 0.044654000216899685 714.0 714.0 1585.0 1665.0</td>\n    </tr>\n    <tr>\n      <th>97</th>\n      <td>0049814626c8_image</td>\n      <td>opacity</td>\n      <td>0.046742170632937036</td>\n      <td>2796.0</td>\n      <td>3435.0</td>\n      <td>829.0</td>\n      <td>1910.0</td>\n      <td>1 0.046742170632937036 2796.0 829.0 3435.0 1910.0</td>\n    </tr>\n    <tr>\n      <th>98</th>\n      <td>0049814626c8_image</td>\n      <td>opacity</td>\n      <td>0.04859817822678338</td>\n      <td>539.0</td>\n      <td>1103.0</td>\n      <td>1135.0</td>\n      <td>2175.0</td>\n      <td>1 0.04859817822678338 539.0 1135.0 1103.0 2175.0</td>\n    </tr>\n    <tr>\n      <th>99</th>\n      <td>0049814626c8_image</td>\n      <td>opacity</td>\n      <td>0.05176628202729419</td>\n      <td>622.0</td>\n      <td>1767.0</td>\n      <td>829.0</td>\n      <td>2528.0</td>\n      <td>1 0.05176628202729419 622.0 829.0 1767.0 2528.0</td>\n    </tr>\n  </tbody>\n</table>\n<p>100 rows × 8 columns</p>\n</div>"
     },
     "metadata": {},
     "execution_count": 37
    }
   ],
   "source": [
    "sub_df"
   ]
  },
  {
   "cell_type": "code",
   "execution_count": null,
   "metadata": {},
   "outputs": [],
   "source": []
  }
 ]
}