{
 "metadata": {
  "language_info": {
   "codemirror_mode": {
    "name": "ipython",
    "version": 3
   },
   "file_extension": ".py",
   "mimetype": "text/x-python",
   "name": "python",
   "nbconvert_exporter": "python",
   "pygments_lexer": "ipython3",
   "version": "3.7.5"
  },
  "orig_nbformat": 4,
  "kernelspec": {
   "name": "python3",
   "display_name": "Python 3.7.5 64-bit"
  },
  "interpreter": {
   "hash": "31f2aee4e71d21fbe5cf8b01ff0e069b9275f58929596ceb00d14d90e3e16cd6"
  }
 },
 "nbformat": 4,
 "nbformat_minor": 2,
 "cells": [
  {
   "cell_type": "code",
   "execution_count": 32,
   "source": [
    "import pandas as pd, numpy as np\n",
    "import os\n",
    "from tqdm import tqdm\n",
    "tqdm.pandas()\n",
    "import ast"
   ],
   "outputs": [],
   "metadata": {}
  },
  {
   "cell_type": "code",
   "execution_count": 33,
   "source": [
    "train_df = pd.read_csv(f'/mnt/d/Dataset/Github/SCD/bbox/csv/train_dupicate.csv')\n",
    "mapping = dict(train_df[['image_id', 'StudyInstanceUID']].values)\n",
    "fold_df = pd.read_csv(\"/mnt/d/Dataset/Github/SCD/bbox/csv/scd_fold.csv\")\n",
    "fold_df['StudyInstanceUID'] = fold_df.image_id.map(mapping)\n",
    "study2fold = dict(fold_df[['StudyInstanceUID', 'fold']].values)\n",
    "train_df['fold'] = train_df['StudyInstanceUID'].map(study2fold)\n",
    "print('original:', train_df.shape[0])\n",
    "train_df.fold.value_counts()"
   ],
   "outputs": [
    {
     "output_type": "stream",
     "name": "stdout",
     "text": [
      "original: 6334\n"
     ]
    },
    {
     "output_type": "execute_result",
     "data": {
      "text/plain": [
       "1    1268\n",
       "4    1267\n",
       "3    1267\n",
       "0    1266\n",
       "2    1266\n",
       "Name: fold, dtype: int64"
      ]
     },
     "metadata": {},
     "execution_count": 33
    }
   ],
   "metadata": {}
  },
  {
   "cell_type": "markdown",
   "source": [
    "# Class Name Mapping"
   ],
   "metadata": {}
  },
  {
   "cell_type": "code",
   "execution_count": 34,
   "source": [
    "class_names = ['Negative for Pneumonia',\n",
    "              'Indeterminate Appearance',\n",
    "              'Atypical Appearance',\n",
    "              'Typical Appearance']\n",
    "class_labels= [0, 1, 2, 3]\n",
    "name2label = dict(zip(class_names, class_labels))\n",
    "label2name = {v:k for k, v in name2label.items()}\n",
    "\n",
    "# train_df\n",
    "tqdm.pandas(desc=\"train  \")\n",
    "train_df['class_name']  = train_df.progress_apply(lambda row:row[class_names].iloc[[row[class_names].values.argmax()]].index.tolist()[0], \n",
    "                             axis=1)\n",
    "train_df['class_label'] = train_df.class_name.map(name2label)"
   ],
   "outputs": [
    {
     "output_type": "stream",
     "name": "stderr",
     "text": [
      "train  : 100%|██████████| 6334/6334 [00:05<00:00, 1061.66it/s]\n"
     ]
    }
   ],
   "metadata": {}
  },
  {
   "cell_type": "markdown",
   "source": [
    "# Fix Dataset"
   ],
   "metadata": {}
  },
  {
   "cell_type": "code",
   "execution_count": 35,
   "source": [
    "def get_fix(grp):\n",
    "    if grp.loc[grp.label!='none 1 0 0 1 1'].shape[0]!=0: # remove from those groups where there is img with bbox\n",
    "        grp.loc[grp.label=='none 1 0 0 1 1', 'fix'] = 1\n",
    "    return grp\n",
    "\n",
    "train_df['fix'] = 0\n",
    "train_df = train_df.groupby(['StudyInstanceUID']).progress_apply(get_fix)\n",
    "print(train_df.fix.value_counts())\n",
    "train_df = train_df[train_df.fix!=1]"
   ],
   "outputs": [
    {
     "output_type": "stream",
     "name": "stderr",
     "text": [
      "train  : 100%|██████████| 6054/6054 [00:11<00:00, 544.26it/s] "
     ]
    },
    {
     "output_type": "stream",
     "name": "stdout",
     "text": [
      "0    6117\n",
      "1     217\n",
      "Name: fix, dtype: int64\n"
     ]
    },
    {
     "output_type": "stream",
     "name": "stderr",
     "text": [
      "\n"
     ]
    }
   ],
   "metadata": {}
  },
  {
   "cell_type": "markdown",
   "source": [
    "# Remove Duplicates"
   ],
   "metadata": {}
  },
  {
   "cell_type": "code",
   "execution_count": 36,
   "source": [
    "dup_0 = train_df.query(\"dup_id==0\") # take all from non-duplicates\n",
    "dup_1 = train_df.query(\"dup_id>0\").groupby(\"StudyInstanceUID\").head(1) # take one from duplicates\n",
    "train_df = pd.concat((dup_0, dup_1), axis=0)\n",
    "print('After removal size:',train_df.shape[0])"
   ],
   "outputs": [
    {
     "output_type": "stream",
     "name": "stdout",
     "text": [
      "After removal size: 6069\n"
     ]
    }
   ],
   "metadata": {}
  },
  {
   "cell_type": "code",
   "execution_count": 37,
   "source": [
    "df_ids    = []\n",
    "df_data   = []\n",
    "for idx in tqdm(range(train_df.shape[0])):\n",
    "    row = train_df.iloc[idx]\n",
    "    image_id = row.image_id+'_image'\n",
    "    study_id = row.StudyInstanceUID+'_study'\n",
    "    width    = row.width\n",
    "    height   = row.height\n",
    "    data = np.array(row.label.split(' ')).reshape(-1, 6).tolist()\n",
    "    df_data.extend(data)\n",
    "    df_ids.extend([[image_id,width, height]]*len(data))\n",
    "image_df = pd.DataFrame(np.concatenate((df_ids,df_data), axis=1), columns=[\"ImageID\",\"Width\",\"Height\",\"LabelName\",\"Conf\",\"XMin\",\"YMin\",\"XMax\",\"YMax\"])\n",
    "image_df.head(2)\n",
    "    "
   ],
   "outputs": [
    {
     "output_type": "stream",
     "name": "stderr",
     "text": [
      "100%|██████████| 6069/6069 [00:01<00:00, 4986.79it/s]\n"
     ]
    },
    {
     "output_type": "execute_result",
     "data": {
      "text/plain": [
       "              ImageID Width Height LabelName Conf        XMin       YMin  \\\n",
       "0  000a312787f2_image  4256   3488   opacity    1   789.28836  582.43035   \n",
       "1  000a312787f2_image  4256   3488   opacity    1  2245.91208  591.20528   \n",
       "\n",
       "         XMax        YMax  \n",
       "0  1815.94498  2499.73327  \n",
       "1   3340.5737  2352.75472  "
      ],
      "text/html": [
       "<div>\n",
       "<style scoped>\n",
       "    .dataframe tbody tr th:only-of-type {\n",
       "        vertical-align: middle;\n",
       "    }\n",
       "\n",
       "    .dataframe tbody tr th {\n",
       "        vertical-align: top;\n",
       "    }\n",
       "\n",
       "    .dataframe thead th {\n",
       "        text-align: right;\n",
       "    }\n",
       "</style>\n",
       "<table border=\"1\" class=\"dataframe\">\n",
       "  <thead>\n",
       "    <tr style=\"text-align: right;\">\n",
       "      <th></th>\n",
       "      <th>ImageID</th>\n",
       "      <th>Width</th>\n",
       "      <th>Height</th>\n",
       "      <th>LabelName</th>\n",
       "      <th>Conf</th>\n",
       "      <th>XMin</th>\n",
       "      <th>YMin</th>\n",
       "      <th>XMax</th>\n",
       "      <th>YMax</th>\n",
       "    </tr>\n",
       "  </thead>\n",
       "  <tbody>\n",
       "    <tr>\n",
       "      <th>0</th>\n",
       "      <td>000a312787f2_image</td>\n",
       "      <td>4256</td>\n",
       "      <td>3488</td>\n",
       "      <td>opacity</td>\n",
       "      <td>1</td>\n",
       "      <td>789.28836</td>\n",
       "      <td>582.43035</td>\n",
       "      <td>1815.94498</td>\n",
       "      <td>2499.73327</td>\n",
       "    </tr>\n",
       "    <tr>\n",
       "      <th>1</th>\n",
       "      <td>000a312787f2_image</td>\n",
       "      <td>4256</td>\n",
       "      <td>3488</td>\n",
       "      <td>opacity</td>\n",
       "      <td>1</td>\n",
       "      <td>2245.91208</td>\n",
       "      <td>591.20528</td>\n",
       "      <td>3340.5737</td>\n",
       "      <td>2352.75472</td>\n",
       "    </tr>\n",
       "  </tbody>\n",
       "</table>\n",
       "</div>"
      ]
     },
     "metadata": {},
     "execution_count": 37
    }
   ],
   "metadata": {}
  },
  {
   "cell_type": "code",
   "execution_count": 38,
   "source": [
    "image_df.shape[0]\n"
   ],
   "outputs": [
    {
     "output_type": "execute_result",
     "data": {
      "text/plain": [
       "9628"
      ]
     },
     "metadata": {},
     "execution_count": 38
    }
   ],
   "metadata": {}
  },
  {
   "cell_type": "code",
   "execution_count": 39,
   "source": [
    "df_data   = []\n",
    "for idx in tqdm(range(train_df.shape[0])):\n",
    "    row = train_df.iloc[idx]\n",
    "    study_id = row.StudyInstanceUID+'_study'\n",
    "    width    = row.width\n",
    "    height   = row.height\n",
    "    df_data.append([study_id, width, height, row[\"class_name\"], '1', '0', '0', '1','1'])\n",
    "study_df = pd.DataFrame(df_data, columns=[\"ImageID\",\"Width\",\"Height\",\"LabelName\",\"Conf\",\"XMin\",\"YMin\",\"XMax\",\"YMax\"])\n",
    "study_df.head(2)\n",
    "    "
   ],
   "outputs": [
    {
     "output_type": "stream",
     "name": "stderr",
     "text": [
      "100%|██████████| 6069/6069 [00:00<00:00, 6444.61it/s]\n"
     ]
    },
    {
     "output_type": "execute_result",
     "data": {
      "text/plain": [
       "              ImageID  Width  Height               LabelName Conf XMin YMin  \\\n",
       "0  5776db0cec75_study   4256    3488      Typical Appearance    1    0    0   \n",
       "1  ff0879eb20ed_study   2832    2320  Negative for Pneumonia    1    0    0   \n",
       "\n",
       "  XMax YMax  \n",
       "0    1    1  \n",
       "1    1    1  "
      ],
      "text/html": [
       "<div>\n",
       "<style scoped>\n",
       "    .dataframe tbody tr th:only-of-type {\n",
       "        vertical-align: middle;\n",
       "    }\n",
       "\n",
       "    .dataframe tbody tr th {\n",
       "        vertical-align: top;\n",
       "    }\n",
       "\n",
       "    .dataframe thead th {\n",
       "        text-align: right;\n",
       "    }\n",
       "</style>\n",
       "<table border=\"1\" class=\"dataframe\">\n",
       "  <thead>\n",
       "    <tr style=\"text-align: right;\">\n",
       "      <th></th>\n",
       "      <th>ImageID</th>\n",
       "      <th>Width</th>\n",
       "      <th>Height</th>\n",
       "      <th>LabelName</th>\n",
       "      <th>Conf</th>\n",
       "      <th>XMin</th>\n",
       "      <th>YMin</th>\n",
       "      <th>XMax</th>\n",
       "      <th>YMax</th>\n",
       "    </tr>\n",
       "  </thead>\n",
       "  <tbody>\n",
       "    <tr>\n",
       "      <th>0</th>\n",
       "      <td>5776db0cec75_study</td>\n",
       "      <td>4256</td>\n",
       "      <td>3488</td>\n",
       "      <td>Typical Appearance</td>\n",
       "      <td>1</td>\n",
       "      <td>0</td>\n",
       "      <td>0</td>\n",
       "      <td>1</td>\n",
       "      <td>1</td>\n",
       "    </tr>\n",
       "    <tr>\n",
       "      <th>1</th>\n",
       "      <td>ff0879eb20ed_study</td>\n",
       "      <td>2832</td>\n",
       "      <td>2320</td>\n",
       "      <td>Negative for Pneumonia</td>\n",
       "      <td>1</td>\n",
       "      <td>0</td>\n",
       "      <td>0</td>\n",
       "      <td>1</td>\n",
       "      <td>1</td>\n",
       "    </tr>\n",
       "  </tbody>\n",
       "</table>\n",
       "</div>"
      ]
     },
     "metadata": {},
     "execution_count": 39
    }
   ],
   "metadata": {}
  },
  {
   "cell_type": "code",
   "execution_count": 40,
   "source": [
    "study_df.shape[0]"
   ],
   "outputs": [
    {
     "output_type": "execute_result",
     "data": {
      "text/plain": [
       "6069"
      ]
     },
     "metadata": {},
     "execution_count": 40
    }
   ],
   "metadata": {}
  },
  {
   "cell_type": "code",
   "execution_count": 41,
   "source": [
    "gt_df = pd.concat((image_df, study_df), axis=0).drop('Conf', axis=1)\n",
    "gt_df[[\"Width\",\"Height\",\"XMin\",\"YMin\",\"XMax\",\"YMax\"]] = gt_df[[\"Width\",\"Height\",\"XMin\",\"YMin\",\"XMax\",\"YMax\"]].astype(float)\n",
    "gt_df[[\"XMin\", \"YMin\"]] = gt_df[[\"XMin\", \"YMin\"]].values/gt_df[['Width', 'Height']].values\n",
    "gt_df[[\"XMax\", \"YMax\"]] = gt_df[[\"XMax\", \"YMax\"]].values/gt_df[['Width', 'Height']].values\n",
    "gt_df.head(2)"
   ],
   "outputs": [
    {
     "output_type": "execute_result",
     "data": {
      "text/plain": [
       "              ImageID   Width  Height LabelName      XMin      YMin      XMax  \\\n",
       "0  000a312787f2_image  4256.0  3488.0   opacity  0.185453  0.166981  0.426679   \n",
       "1  000a312787f2_image  4256.0  3488.0   opacity  0.527705  0.169497  0.784909   \n",
       "\n",
       "       YMax  \n",
       "0  0.716667  \n",
       "1  0.674528  "
      ],
      "text/html": [
       "<div>\n",
       "<style scoped>\n",
       "    .dataframe tbody tr th:only-of-type {\n",
       "        vertical-align: middle;\n",
       "    }\n",
       "\n",
       "    .dataframe tbody tr th {\n",
       "        vertical-align: top;\n",
       "    }\n",
       "\n",
       "    .dataframe thead th {\n",
       "        text-align: right;\n",
       "    }\n",
       "</style>\n",
       "<table border=\"1\" class=\"dataframe\">\n",
       "  <thead>\n",
       "    <tr style=\"text-align: right;\">\n",
       "      <th></th>\n",
       "      <th>ImageID</th>\n",
       "      <th>Width</th>\n",
       "      <th>Height</th>\n",
       "      <th>LabelName</th>\n",
       "      <th>XMin</th>\n",
       "      <th>YMin</th>\n",
       "      <th>XMax</th>\n",
       "      <th>YMax</th>\n",
       "    </tr>\n",
       "  </thead>\n",
       "  <tbody>\n",
       "    <tr>\n",
       "      <th>0</th>\n",
       "      <td>000a312787f2_image</td>\n",
       "      <td>4256.0</td>\n",
       "      <td>3488.0</td>\n",
       "      <td>opacity</td>\n",
       "      <td>0.185453</td>\n",
       "      <td>0.166981</td>\n",
       "      <td>0.426679</td>\n",
       "      <td>0.716667</td>\n",
       "    </tr>\n",
       "    <tr>\n",
       "      <th>1</th>\n",
       "      <td>000a312787f2_image</td>\n",
       "      <td>4256.0</td>\n",
       "      <td>3488.0</td>\n",
       "      <td>opacity</td>\n",
       "      <td>0.527705</td>\n",
       "      <td>0.169497</td>\n",
       "      <td>0.784909</td>\n",
       "      <td>0.674528</td>\n",
       "    </tr>\n",
       "  </tbody>\n",
       "</table>\n",
       "</div>"
      ]
     },
     "metadata": {},
     "execution_count": 41
    }
   ],
   "metadata": {}
  },
  {
   "cell_type": "code",
   "execution_count": 42,
   "source": [
    "# from pandas_profiling import ProfileReport\n",
    "# profile = ProfileReport(gt_df, title=\"Pandas Profiling Report\")\n",
    "# profile"
   ],
   "outputs": [],
   "metadata": {}
  },
  {
   "cell_type": "code",
   "execution_count": 43,
   "source": [
    "gt_df.XMax.min()"
   ],
   "outputs": [
    {
     "output_type": "execute_result",
     "data": {
      "text/plain": [
       "0.00020445716622367614"
      ]
     },
     "metadata": {},
     "execution_count": 43
    }
   ],
   "metadata": {}
  },
  {
   "cell_type": "code",
   "execution_count": 44,
   "source": [
    "# def fix_study(row):\n",
    "#     if 'study' in row['ImageID']:\n",
    "#         row['XMin'], row['XMax'], row['YMin'], row['YMax'] = 0, 1, 0, 1\n",
    "#     if row['LabelName']=='none':\n",
    "#         row['XMin'], row['XMax'], row['YMin'], row['YMax'] = 0, 1, 0, 1\n",
    "#     return row\n",
    "# gt_df = gt_df.progress_apply(fix_study, axis=1)\n",
    "# gt_df.head(2)"
   ],
   "outputs": [],
   "metadata": {}
  },
  {
   "cell_type": "code",
   "execution_count": 45,
   "source": [
    "mapping = {\n",
    "    'Typical Appearance':'typical',\n",
    "    'Atypical Appearance':'atypical',\n",
    "    'Indeterminate Appearance':'indeterminate',\n",
    "    'Negative for Pneumonia':'negative',\n",
    "    'none':'none',\n",
    "    'opacity':'opacity',\n",
    "}\n",
    "gt_df['LabelName'] = gt_df['LabelName'].map(mapping)"
   ],
   "outputs": [],
   "metadata": {}
  },
  {
   "cell_type": "code",
   "execution_count": 46,
   "source": [
    "gt_df.to_csv('/mnt/d/Dataset/Github/SCD/bbox/csv/gt.csv',index=False)"
   ],
   "outputs": [],
   "metadata": {}
  },
  {
   "cell_type": "code",
   "execution_count": 47,
   "source": [
    "# gt_df.query(\"LabelName=='none'\")"
   ],
   "outputs": [],
   "metadata": {}
  },
  {
   "cell_type": "code",
   "execution_count": 48,
   "source": [
    "gt_df.shape"
   ],
   "outputs": [
    {
     "output_type": "execute_result",
     "data": {
      "text/plain": [
       "(15697, 8)"
      ]
     },
     "metadata": {},
     "execution_count": 48
    }
   ],
   "metadata": {}
  },
  {
   "cell_type": "code",
   "execution_count": 49,
   "source": [
    "gt_df.drop_duplicates().shape[0]"
   ],
   "outputs": [
    {
     "output_type": "execute_result",
     "data": {
      "text/plain": [
       "15689"
      ]
     },
     "metadata": {},
     "execution_count": 49
    }
   ],
   "metadata": {}
  },
  {
   "cell_type": "code",
   "execution_count": 50,
   "source": [
    "# pred_df = pd.read_csv('/mnt/d/Dataset/Github/SCD/bbox/csv/tmp_pred.csv')\n",
    "# pred_df.shape[0]"
   ],
   "outputs": [],
   "metadata": {}
  },
  {
   "cell_type": "code",
   "execution_count": 51,
   "source": [
    "# len(set.intersection(set(gt_df.ImageID), set(pred_df.ImageID)))"
   ],
   "outputs": [],
   "metadata": {}
  },
  {
   "cell_type": "code",
   "execution_count": 52,
   "source": [
    "# pred2 = pd.read_csv('/mnt/d/Dataset/Github/SCD/bbox/csv/pred.csv')\n",
    "# pred2.shape[0]"
   ],
   "outputs": [],
   "metadata": {}
  },
  {
   "cell_type": "code",
   "execution_count": 53,
   "source": [
    "# gt_df[['ImageID', 'Width', 'Height']].drop_duplicates()"
   ],
   "outputs": [],
   "metadata": {}
  },
  {
   "cell_type": "code",
   "execution_count": 54,
   "source": [
    "# pd.merge(pred_df, gt_df[['ImageID', 'Width', 'Height']], on='ImageID', how='left').drop_duplicates().shape"
   ],
   "outputs": [],
   "metadata": {}
  },
  {
   "cell_type": "code",
   "execution_count": 57,
   "source": [
    "pwd"
   ],
   "outputs": [
    {
     "output_type": "execute_result",
     "data": {
      "text/plain": [
       "'/mnt/d/Dataset/Github/SCD/bbox/notebooks'"
      ]
     },
     "metadata": {},
     "execution_count": 57
    }
   ],
   "metadata": {}
  },
  {
   "cell_type": "code",
   "execution_count": 79,
   "source": [
    "gt = pd.read_csv('csv/gt.csv')\n",
    "gt.head(2)"
   ],
   "outputs": [
    {
     "output_type": "execute_result",
     "data": {
      "text/plain": [
       "              ImageID   Width  Height LabelName      XMin      YMin      XMax  \\\n",
       "0  000a312787f2_image  4256.0  3488.0   opacity  0.185453  0.166981  0.426679   \n",
       "1  000a312787f2_image  4256.0  3488.0   opacity  0.527705  0.169497  0.784909   \n",
       "\n",
       "       YMax  \n",
       "0  0.716667  \n",
       "1  0.674528  "
      ],
      "text/html": [
       "<div>\n",
       "<style scoped>\n",
       "    .dataframe tbody tr th:only-of-type {\n",
       "        vertical-align: middle;\n",
       "    }\n",
       "\n",
       "    .dataframe tbody tr th {\n",
       "        vertical-align: top;\n",
       "    }\n",
       "\n",
       "    .dataframe thead th {\n",
       "        text-align: right;\n",
       "    }\n",
       "</style>\n",
       "<table border=\"1\" class=\"dataframe\">\n",
       "  <thead>\n",
       "    <tr style=\"text-align: right;\">\n",
       "      <th></th>\n",
       "      <th>ImageID</th>\n",
       "      <th>Width</th>\n",
       "      <th>Height</th>\n",
       "      <th>LabelName</th>\n",
       "      <th>XMin</th>\n",
       "      <th>YMin</th>\n",
       "      <th>XMax</th>\n",
       "      <th>YMax</th>\n",
       "    </tr>\n",
       "  </thead>\n",
       "  <tbody>\n",
       "    <tr>\n",
       "      <th>0</th>\n",
       "      <td>000a312787f2_image</td>\n",
       "      <td>4256.0</td>\n",
       "      <td>3488.0</td>\n",
       "      <td>opacity</td>\n",
       "      <td>0.185453</td>\n",
       "      <td>0.166981</td>\n",
       "      <td>0.426679</td>\n",
       "      <td>0.716667</td>\n",
       "    </tr>\n",
       "    <tr>\n",
       "      <th>1</th>\n",
       "      <td>000a312787f2_image</td>\n",
       "      <td>4256.0</td>\n",
       "      <td>3488.0</td>\n",
       "      <td>opacity</td>\n",
       "      <td>0.527705</td>\n",
       "      <td>0.169497</td>\n",
       "      <td>0.784909</td>\n",
       "      <td>0.674528</td>\n",
       "    </tr>\n",
       "  </tbody>\n",
       "</table>\n",
       "</div>"
      ]
     },
     "metadata": {},
     "execution_count": 79
    }
   ],
   "metadata": {}
  },
  {
   "cell_type": "code",
   "execution_count": null,
   "source": [],
   "outputs": [],
   "metadata": {}
  }
 ]
}